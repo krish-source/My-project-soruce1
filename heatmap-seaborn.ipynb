{
 "cells": [
  {
   "cell_type": "code",
   "execution_count": 1,
   "id": "cordless-sharing",
   "metadata": {
    "_cell_guid": "b1076dfc-b9ad-4769-8c92-a6c4dae69d19",
    "_uuid": "8f2839f25d086af736a60e9eeb907d3b93b6e0e5",
    "execution": {
     "iopub.execute_input": "2021-05-01T00:50:17.289950Z",
     "iopub.status.busy": "2021-05-01T00:50:17.288694Z",
     "iopub.status.idle": "2021-05-01T00:50:17.295444Z",
     "shell.execute_reply": "2021-05-01T00:50:17.294777Z"
    },
    "papermill": {
     "duration": 0.01497,
     "end_time": "2021-05-01T00:50:17.295605",
     "exception": false,
     "start_time": "2021-05-01T00:50:17.280635",
     "status": "completed"
    },
    "tags": []
   },
   "outputs": [],
   "source": [
    "# This Python 3 environment comes with many helpful analytics libraries installed\n",
    "# It is defined by the kaggle/python Docker image: https://github.com/kaggle/docker-python\n",
    "# For example, here's several helpful packages to load\n",
    "\n",
    "import numpy as np # linear algebra\n",
    "import pandas as pd # data processing, CSV file I/O (e.g. pd.read_csv)\n",
    "\n",
    "# Input data files are available in the read-only \"../input/\" directory\n",
    "# For example, running this (by clicking run or pressing Shift+Enter) will list all files under the input directory\n",
    "\n",
    "import os\n",
    "for dirname, _, filenames in os.walk('/kaggle/input'):\n",
    "    for filename in filenames:\n",
    "        print(os.path.join(dirname, filename))\n",
    "\n",
    "# You can write up to 20GB to the current directory (/kaggle/working/) that gets preserved as output when you create a version using \"Save & Run All\" \n",
    "# You can also write temporary files to /kaggle/temp/, but they won't be saved outside of the current session"
   ]
  },
  {
   "cell_type": "code",
   "execution_count": 2,
   "id": "prime-physics",
   "metadata": {
    "execution": {
     "iopub.execute_input": "2021-05-01T00:50:17.312411Z",
     "iopub.status.busy": "2021-05-01T00:50:17.311735Z",
     "iopub.status.idle": "2021-05-01T00:50:18.549425Z",
     "shell.execute_reply": "2021-05-01T00:50:18.548799Z"
    },
    "papermill": {
     "duration": 1.250464,
     "end_time": "2021-05-01T00:50:18.549558",
     "exception": false,
     "start_time": "2021-05-01T00:50:17.299094",
     "status": "completed"
    },
    "tags": []
   },
   "outputs": [
    {
     "data": {
      "image/png": "[encoded data removed]",
      "text/plain": [
       "<Figure size 432x288 with 2 Axes>"
      ]
     },
     "metadata": {},
     "output_type": "display_data"
    }
   ],
   "source": [
    "\"\"\"Example of pandas/seaborn heatmap generation\"\"\"\n",
    "\n",
    "import matplotlib.pyplot as plt\n",
    "import pandas as pd\n",
    "\n",
    "def heatmap_using_seaborn(data):\n",
    "    import seaborn as sns; sns.set()\n",
    "    ax = sns.heatmap(data)\n",
    "    plt.show()\n",
    "\n",
    "\n",
    "data = pd.DataFrame({\n",
    "    'left':   [0,   10, 20, 30, 33, 40,  0, 10],\n",
    "    'center': [100, 80, 60, 40, 34, 20, 10, 20],\n",
    "    'right':  [0,   10, 20, 30, 33, 40, 90, 70],\n",
    "})\n",
    "\n",
    "heatmap_using_seaborn(data)"
   ]
  }
 ],
 "metadata": {
  "kernelspec": {
   "display_name": "Python 3",
   "language": "python",
   "name": "python3"
  },
  "language_info": {
   "codemirror_mode": {
    "name": "ipython",
    "version": 3
   },
   "file_extension": ".py",
   "mimetype": "text/x-python",
   "name": "python",
   "nbconvert_exporter": "python",
   "pygments_lexer": "ipython3",
   "version": "3.7.9"
  },
  "papermill": {
   "default_parameters": {},
   "duration": 8.248918,
   "end_time": "2021-05-01T00:50:19.169383",
   "environment_variables": {},
   "exception": null,
   "input_path": "__notebook__.ipynb",
   "output_path": "__notebook__.ipynb",
   "parameters": {},
   "start_time": "2021-05-01T00:50:10.920465",
   "version": "2.3.2"
  }
 },
 "nbformat": 4,
 "nbformat_minor": 5
}
