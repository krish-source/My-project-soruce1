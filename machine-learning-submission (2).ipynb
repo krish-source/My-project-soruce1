{
 "cells": [
  {
   "cell_type": "code",
   "execution_count": 1,
   "id": "suburban-surfing",
   "metadata": {
    "_cell_guid": "b1076dfc-b9ad-4769-8c92-a6c4dae69d19",
    "_uuid": "8f2839f25d086af736a60e9eeb907d3b93b6e0e5",
    "execution": {
     "iopub.execute_input": "2021-04-21T22:02:22.266967Z",
     "iopub.status.busy": "2021-04-21T22:02:22.266435Z",
     "iopub.status.idle": "2021-04-21T22:02:22.281071Z",
     "shell.execute_reply": "2021-04-21T22:02:22.281514Z"
    },
    "papermill": {
     "duration": 0.0435,
     "end_time": "2021-04-21T22:02:22.281763",
     "exception": false,
     "start_time": "2021-04-21T22:02:22.238263",
     "status": "completed"
    },
    "tags": []
   },
   "outputs": [
    {
     "name": "stdout",
     "output_type": "stream",
     "text": [
      "/kaggle/input/melbourne-housing-snapshot/melb_data.csv\n"
     ]
    }
   ],
   "source": [
    "# This Python 3 environment comes with many helpful analytics libraries installed\n",
    "# It is defined by the kaggle/python Docker image: https://github.com/kaggle/docker-python\n",
    "# For example, here's several helpful packages to load\n",
    "\n",
    "import numpy as np # linear algebra\n",
    "import pandas as pd # data processing, CSV file I/O (e.g. pd.read_csv)\n",
    "\n",
    "# Input data files are available in the read-only \"../input/\" directory\n",
    "# For example, running this (by clicking run or pressing Shift+Enter) will list all files under the input directory\n",
    "\n",
    "import os\n",
    "for dirname, _, filenames in os.walk('/kaggle/input'):\n",
    "    for filename in filenames:\n",
    "        print(os.path.join(dirname, filename))\n",
    "\n",
    "# You can write up to 20GB to the current directory (/kaggle/working/) that gets preserved as output when you create a version using \"Save & Run All\" \n",
    "# You can also write temporary files to /kaggle/temp/, but they won't be saved outside of the current session"
   ]
  },
  {
   "cell_type": "code",
   "execution_count": 2,
   "id": "resistant-hamilton",
   "metadata": {
    "execution": {
     "iopub.execute_input": "2021-04-21T22:02:22.317875Z",
     "iopub.status.busy": "2021-04-21T22:02:22.317290Z",
     "iopub.status.idle": "2021-04-21T22:02:22.393829Z",
     "shell.execute_reply": "2021-04-21T22:02:22.393348Z"
    },
    "papermill": {
     "duration": 0.095333,
     "end_time": "2021-04-21T22:02:22.393944",
     "exception": false,
     "start_time": "2021-04-21T22:02:22.298611",
     "status": "completed"
    },
    "tags": []
   },
   "outputs": [
    {
     "name": "stdout",
     "output_type": "stream",
     "text": [
      "Data loaded sucess\n"
     ]
    }
   ],
   "source": [
    "import pandas as pd\n",
    "\n",
    "melbourne_file_path = '../input/melbourne-housing-snapshot/melb_data.csv'\n",
    "melbourne_data = pd.read_csv(melbourne_file_path) \n",
    "\n",
    "print(\"Data loaded sucess\")\n",
    "\n"
   ]
  },
  {
   "cell_type": "code",
   "execution_count": 3,
   "id": "positive-kennedy",
   "metadata": {
    "execution": {
     "iopub.execute_input": "2021-04-21T22:02:22.428369Z",
     "iopub.status.busy": "2021-04-21T22:02:22.427821Z",
     "iopub.status.idle": "2021-04-21T22:02:22.493718Z",
     "shell.execute_reply": "2021-04-21T22:02:22.494152Z"
    },
    "papermill": {
     "duration": 0.084963,
     "end_time": "2021-04-21T22:02:22.494309",
     "exception": false,
     "start_time": "2021-04-21T22:02:22.409346",
     "status": "completed"
    },
    "tags": []
   },
   "outputs": [
    {
     "data": {
      "text/html": [
       "<div>\n",
       "<style scoped>\n",
       "    .dataframe tbody tr th:only-of-type {\n",
       "        vertical-align: middle;\n",
       "    }\n",
       "\n",
       "    .dataframe tbody tr th {\n",
       "        vertical-align: top;\n",
       "    }\n",
       "\n",
       "    .dataframe thead th {\n",
       "        text-align: right;\n",
       "    }\n",
       "</style>\n",
       "<table border=\"1\" class=\"dataframe\">\n",
       "  <thead>\n",
       "    <tr style=\"text-align: right;\">\n",
       "      <th></th>\n",
       "      <th>Rooms</th>\n",
       "      <th>Price</th>\n",
       "      <th>Distance</th>\n",
       "      <th>Postcode</th>\n",
       "      <th>Bedroom2</th>\n",
       "      <th>Bathroom</th>\n",
       "      <th>Car</th>\n",
       "      <th>Landsize</th>\n",
       "      <th>BuildingArea</th>\n",
       "      <th>YearBuilt</th>\n",
       "      <th>Lattitude</th>\n",
       "      <th>Longtitude</th>\n",
       "      <th>Propertycount</th>\n",
       "    </tr>\n",
       "  </thead>\n",
       "  <tbody>\n",
       "    <tr>\n",
       "      <th>count</th>\n",
       "      <td>13580.000000</td>\n",
       "      <td>1.358000e+04</td>\n",
       "      <td>13580.000000</td>\n",
       "      <td>13580.000000</td>\n",
       "      <td>13580.000000</td>\n",
       "      <td>13580.000000</td>\n",
       "      <td>13518.000000</td>\n",
       "      <td>13580.000000</td>\n",
       "      <td>7130.000000</td>\n",
       "      <td>8205.000000</td>\n",
       "      <td>13580.000000</td>\n",
       "      <td>13580.000000</td>\n",
       "      <td>13580.000000</td>\n",
       "    </tr>\n",
       "    <tr>\n",
       "      <th>mean</th>\n",
       "      <td>2.937997</td>\n",
       "      <td>1.075684e+06</td>\n",
       "      <td>10.137776</td>\n",
       "      <td>3105.301915</td>\n",
       "      <td>2.914728</td>\n",
       "      <td>1.534242</td>\n",
       "      <td>1.610075</td>\n",
       "      <td>558.416127</td>\n",
       "      <td>151.967650</td>\n",
       "      <td>1964.684217</td>\n",
       "      <td>-37.809203</td>\n",
       "      <td>144.995216</td>\n",
       "      <td>7454.417378</td>\n",
       "    </tr>\n",
       "    <tr>\n",
       "      <th>std</th>\n",
       "      <td>0.955748</td>\n",
       "      <td>6.393107e+05</td>\n",
       "      <td>5.868725</td>\n",
       "      <td>90.676964</td>\n",
       "      <td>0.965921</td>\n",
       "      <td>0.691712</td>\n",
       "      <td>0.962634</td>\n",
       "      <td>3990.669241</td>\n",
       "      <td>541.014538</td>\n",
       "      <td>37.273762</td>\n",
       "      <td>0.079260</td>\n",
       "      <td>0.103916</td>\n",
       "      <td>4378.581772</td>\n",
       "    </tr>\n",
       "    <tr>\n",
       "      <th>min</th>\n",
       "      <td>1.000000</td>\n",
       "      <td>8.500000e+04</td>\n",
       "      <td>0.000000</td>\n",
       "      <td>3000.000000</td>\n",
       "      <td>0.000000</td>\n",
       "      <td>0.000000</td>\n",
       "      <td>0.000000</td>\n",
       "      <td>0.000000</td>\n",
       "      <td>0.000000</td>\n",
       "      <td>1196.000000</td>\n",
       "      <td>-38.182550</td>\n",
       "      <td>144.431810</td>\n",
       "      <td>249.000000</td>\n",
       "    </tr>\n",
       "    <tr>\n",
       "      <th>25%</th>\n",
       "      <td>2.000000</td>\n",
       "      <td>6.500000e+05</td>\n",
       "      <td>6.100000</td>\n",
       "      <td>3044.000000</td>\n",
       "      <td>2.000000</td>\n",
       "      <td>1.000000</td>\n",
       "      <td>1.000000</td>\n",
       "      <td>177.000000</td>\n",
       "      <td>93.000000</td>\n",
       "      <td>1940.000000</td>\n",
       "      <td>-37.856822</td>\n",
       "      <td>144.929600</td>\n",
       "      <td>4380.000000</td>\n",
       "    </tr>\n",
       "    <tr>\n",
       "      <th>50%</th>\n",
       "      <td>3.000000</td>\n",
       "      <td>9.030000e+05</td>\n",
       "      <td>9.200000</td>\n",
       "      <td>3084.000000</td>\n",
       "      <td>3.000000</td>\n",
       "      <td>1.000000</td>\n",
       "      <td>2.000000</td>\n",
       "      <td>440.000000</td>\n",
       "      <td>126.000000</td>\n",
       "      <td>1970.000000</td>\n",
       "      <td>-37.802355</td>\n",
       "      <td>145.000100</td>\n",
       "      <td>6555.000000</td>\n",
       "    </tr>\n",
       "    <tr>\n",
       "      <th>75%</th>\n",
       "      <td>3.000000</td>\n",
       "      <td>1.330000e+06</td>\n",
       "      <td>13.000000</td>\n",
       "      <td>3148.000000</td>\n",
       "      <td>3.000000</td>\n",
       "      <td>2.000000</td>\n",
       "      <td>2.000000</td>\n",
       "      <td>651.000000</td>\n",
       "      <td>174.000000</td>\n",
       "      <td>1999.000000</td>\n",
       "      <td>-37.756400</td>\n",
       "      <td>145.058305</td>\n",
       "      <td>10331.000000</td>\n",
       "    </tr>\n",
       "    <tr>\n",
       "      <th>max</th>\n",
       "      <td>10.000000</td>\n",
       "      <td>9.000000e+06</td>\n",
       "      <td>48.100000</td>\n",
       "      <td>3977.000000</td>\n",
       "      <td>20.000000</td>\n",
       "      <td>8.000000</td>\n",
       "      <td>10.000000</td>\n",
       "      <td>433014.000000</td>\n",
       "      <td>44515.000000</td>\n",
       "      <td>2018.000000</td>\n",
       "      <td>-37.408530</td>\n",
       "      <td>145.526350</td>\n",
       "      <td>21650.000000</td>\n",
       "    </tr>\n",
       "  </tbody>\n",
       "</table>\n",
       "</div>"
      ],
      "text/plain": [
       "              Rooms         Price      Distance      Postcode      Bedroom2  \\\n",
       "count  13580.000000  1.358000e+04  13580.000000  13580.000000  13580.000000   \n",
       "mean       2.937997  1.075684e+06     10.137776   3105.301915      2.914728   \n",
       "std        0.955748  6.393107e+05      5.868725     90.676964      0.965921   \n",
       "min        1.000000  8.500000e+04      0.000000   3000.000000      0.000000   \n",
       "25%        2.000000  6.500000e+05      6.100000   3044.000000      2.000000   \n",
       "50%        3.000000  9.030000e+05      9.200000   3084.000000      3.000000   \n",
       "75%        3.000000  1.330000e+06     13.000000   3148.000000      3.000000   \n",
       "max       10.000000  9.000000e+06     48.100000   3977.000000     20.000000   \n",
       "\n",
       "           Bathroom           Car       Landsize  BuildingArea    YearBuilt  \\\n",
       "count  13580.000000  13518.000000   13580.000000   7130.000000  8205.000000   \n",
       "mean       1.534242      1.610075     558.416127    151.967650  1964.684217   \n",
       "std        0.691712      0.962634    3990.669241    541.014538    37.273762   \n",
       "min        0.000000      0.000000       0.000000      0.000000  1196.000000   \n",
       "25%        1.000000      1.000000     177.000000     93.000000  1940.000000   \n",
       "50%        1.000000      2.000000     440.000000    126.000000  1970.000000   \n",
       "75%        2.000000      2.000000     651.000000    174.000000  1999.000000   \n",
       "max        8.000000     10.000000  433014.000000  44515.000000  2018.000000   \n",
       "\n",
       "          Lattitude    Longtitude  Propertycount  \n",
       "count  13580.000000  13580.000000   13580.000000  \n",
       "mean     -37.809203    144.995216    7454.417378  \n",
       "std        0.079260      0.103916    4378.581772  \n",
       "min      -38.182550    144.431810     249.000000  \n",
       "25%      -37.856822    144.929600    4380.000000  \n",
       "50%      -37.802355    145.000100    6555.000000  \n",
       "75%      -37.756400    145.058305   10331.000000  \n",
       "max      -37.408530    145.526350   21650.000000  "
      ]
     },
     "execution_count": 3,
     "metadata": {},
     "output_type": "execute_result"
    }
   ],
   "source": [
    "melbourne_data.describe()"
   ]
  },
  {
   "cell_type": "code",
   "execution_count": 4,
   "id": "divine-concern",
   "metadata": {
    "execution": {
     "iopub.execute_input": "2021-04-21T22:02:22.531644Z",
     "iopub.status.busy": "2021-04-21T22:02:22.531055Z",
     "iopub.status.idle": "2021-04-21T22:02:22.534696Z",
     "shell.execute_reply": "2021-04-21T22:02:22.534213Z"
    },
    "papermill": {
     "duration": 0.023857,
     "end_time": "2021-04-21T22:02:22.534815",
     "exception": false,
     "start_time": "2021-04-21T22:02:22.510958",
     "status": "completed"
    },
    "tags": []
   },
   "outputs": [
    {
     "data": {
      "text/plain": [
       "Index(['Suburb', 'Address', 'Rooms', 'Type', 'Price', 'Method', 'SellerG',\n",
       "       'Date', 'Distance', 'Postcode', 'Bedroom2', 'Bathroom', 'Car',\n",
       "       'Landsize', 'BuildingArea', 'YearBuilt', 'CouncilArea', 'Lattitude',\n",
       "       'Longtitude', 'Regionname', 'Propertycount'],\n",
       "      dtype='object')"
      ]
     },
     "execution_count": 4,
     "metadata": {},
     "output_type": "execute_result"
    }
   ],
   "source": [
    "melbourne_data.columns"
   ]
  },
  {
   "cell_type": "code",
   "execution_count": 5,
   "id": "productive-binding",
   "metadata": {
    "execution": {
     "iopub.execute_input": "2021-04-21T22:02:22.583214Z",
     "iopub.status.busy": "2021-04-21T22:02:22.573637Z",
     "iopub.status.idle": "2021-04-21T22:02:22.602895Z",
     "shell.execute_reply": "2021-04-21T22:02:22.603356Z"
    },
    "papermill": {
     "duration": 0.051438,
     "end_time": "2021-04-21T22:02:22.603501",
     "exception": false,
     "start_time": "2021-04-21T22:02:22.552063",
     "status": "completed"
    },
    "tags": []
   },
   "outputs": [],
   "source": [
    "melbourne_data = melbourne_data.dropna(axis=0)"
   ]
  },
  {
   "cell_type": "code",
   "execution_count": 6,
   "id": "younger-optics",
   "metadata": {
    "execution": {
     "iopub.execute_input": "2021-04-21T22:02:22.643185Z",
     "iopub.status.busy": "2021-04-21T22:02:22.642658Z",
     "iopub.status.idle": "2021-04-21T22:02:22.684272Z",
     "shell.execute_reply": "2021-04-21T22:02:22.684685Z"
    },
    "papermill": {
     "duration": 0.06443,
     "end_time": "2021-04-21T22:02:22.684816",
     "exception": false,
     "start_time": "2021-04-21T22:02:22.620386",
     "status": "completed"
    },
    "tags": []
   },
   "outputs": [
    {
     "data": {
      "text/html": [
       "<div>\n",
       "<style scoped>\n",
       "    .dataframe tbody tr th:only-of-type {\n",
       "        vertical-align: middle;\n",
       "    }\n",
       "\n",
       "    .dataframe tbody tr th {\n",
       "        vertical-align: top;\n",
       "    }\n",
       "\n",
       "    .dataframe thead th {\n",
       "        text-align: right;\n",
       "    }\n",
       "</style>\n",
       "<table border=\"1\" class=\"dataframe\">\n",
       "  <thead>\n",
       "    <tr style=\"text-align: right;\">\n",
       "      <th></th>\n",
       "      <th>Rooms</th>\n",
       "      <th>Price</th>\n",
       "      <th>Distance</th>\n",
       "      <th>Postcode</th>\n",
       "      <th>Bedroom2</th>\n",
       "      <th>Bathroom</th>\n",
       "      <th>Car</th>\n",
       "      <th>Landsize</th>\n",
       "      <th>BuildingArea</th>\n",
       "      <th>YearBuilt</th>\n",
       "      <th>Lattitude</th>\n",
       "      <th>Longtitude</th>\n",
       "      <th>Propertycount</th>\n",
       "    </tr>\n",
       "  </thead>\n",
       "  <tbody>\n",
       "    <tr>\n",
       "      <th>count</th>\n",
       "      <td>6196.000000</td>\n",
       "      <td>6.196000e+03</td>\n",
       "      <td>6196.000000</td>\n",
       "      <td>6196.000000</td>\n",
       "      <td>6196.000000</td>\n",
       "      <td>6196.000000</td>\n",
       "      <td>6196.000000</td>\n",
       "      <td>6196.000000</td>\n",
       "      <td>6196.000000</td>\n",
       "      <td>6196.000000</td>\n",
       "      <td>6196.000000</td>\n",
       "      <td>6196.000000</td>\n",
       "      <td>6196.000000</td>\n",
       "    </tr>\n",
       "    <tr>\n",
       "      <th>mean</th>\n",
       "      <td>2.931407</td>\n",
       "      <td>1.068828e+06</td>\n",
       "      <td>9.751097</td>\n",
       "      <td>3101.947708</td>\n",
       "      <td>2.902034</td>\n",
       "      <td>1.576340</td>\n",
       "      <td>1.573596</td>\n",
       "      <td>471.006940</td>\n",
       "      <td>141.568645</td>\n",
       "      <td>1964.081988</td>\n",
       "      <td>-37.807904</td>\n",
       "      <td>144.990201</td>\n",
       "      <td>7435.489509</td>\n",
       "    </tr>\n",
       "    <tr>\n",
       "      <th>std</th>\n",
       "      <td>0.971079</td>\n",
       "      <td>6.751564e+05</td>\n",
       "      <td>5.612065</td>\n",
       "      <td>86.421604</td>\n",
       "      <td>0.970055</td>\n",
       "      <td>0.711362</td>\n",
       "      <td>0.929947</td>\n",
       "      <td>897.449881</td>\n",
       "      <td>90.834824</td>\n",
       "      <td>38.105673</td>\n",
       "      <td>0.075850</td>\n",
       "      <td>0.099165</td>\n",
       "      <td>4337.698917</td>\n",
       "    </tr>\n",
       "    <tr>\n",
       "      <th>min</th>\n",
       "      <td>1.000000</td>\n",
       "      <td>1.310000e+05</td>\n",
       "      <td>0.000000</td>\n",
       "      <td>3000.000000</td>\n",
       "      <td>0.000000</td>\n",
       "      <td>1.000000</td>\n",
       "      <td>0.000000</td>\n",
       "      <td>0.000000</td>\n",
       "      <td>0.000000</td>\n",
       "      <td>1196.000000</td>\n",
       "      <td>-38.164920</td>\n",
       "      <td>144.542370</td>\n",
       "      <td>389.000000</td>\n",
       "    </tr>\n",
       "    <tr>\n",
       "      <th>25%</th>\n",
       "      <td>2.000000</td>\n",
       "      <td>6.200000e+05</td>\n",
       "      <td>5.900000</td>\n",
       "      <td>3044.000000</td>\n",
       "      <td>2.000000</td>\n",
       "      <td>1.000000</td>\n",
       "      <td>1.000000</td>\n",
       "      <td>152.000000</td>\n",
       "      <td>91.000000</td>\n",
       "      <td>1940.000000</td>\n",
       "      <td>-37.855438</td>\n",
       "      <td>144.926198</td>\n",
       "      <td>4383.750000</td>\n",
       "    </tr>\n",
       "    <tr>\n",
       "      <th>50%</th>\n",
       "      <td>3.000000</td>\n",
       "      <td>8.800000e+05</td>\n",
       "      <td>9.000000</td>\n",
       "      <td>3081.000000</td>\n",
       "      <td>3.000000</td>\n",
       "      <td>1.000000</td>\n",
       "      <td>1.000000</td>\n",
       "      <td>373.000000</td>\n",
       "      <td>124.000000</td>\n",
       "      <td>1970.000000</td>\n",
       "      <td>-37.802250</td>\n",
       "      <td>144.995800</td>\n",
       "      <td>6567.000000</td>\n",
       "    </tr>\n",
       "    <tr>\n",
       "      <th>75%</th>\n",
       "      <td>4.000000</td>\n",
       "      <td>1.325000e+06</td>\n",
       "      <td>12.400000</td>\n",
       "      <td>3147.000000</td>\n",
       "      <td>3.000000</td>\n",
       "      <td>2.000000</td>\n",
       "      <td>2.000000</td>\n",
       "      <td>628.000000</td>\n",
       "      <td>170.000000</td>\n",
       "      <td>2000.000000</td>\n",
       "      <td>-37.758200</td>\n",
       "      <td>145.052700</td>\n",
       "      <td>10175.000000</td>\n",
       "    </tr>\n",
       "    <tr>\n",
       "      <th>max</th>\n",
       "      <td>8.000000</td>\n",
       "      <td>9.000000e+06</td>\n",
       "      <td>47.400000</td>\n",
       "      <td>3977.000000</td>\n",
       "      <td>9.000000</td>\n",
       "      <td>8.000000</td>\n",
       "      <td>10.000000</td>\n",
       "      <td>37000.000000</td>\n",
       "      <td>3112.000000</td>\n",
       "      <td>2018.000000</td>\n",
       "      <td>-37.457090</td>\n",
       "      <td>145.526350</td>\n",
       "      <td>21650.000000</td>\n",
       "    </tr>\n",
       "  </tbody>\n",
       "</table>\n",
       "</div>"
      ],
      "text/plain": [
       "             Rooms         Price     Distance     Postcode     Bedroom2  \\\n",
       "count  6196.000000  6.196000e+03  6196.000000  6196.000000  6196.000000   \n",
       "mean      2.931407  1.068828e+06     9.751097  3101.947708     2.902034   \n",
       "std       0.971079  6.751564e+05     5.612065    86.421604     0.970055   \n",
       "min       1.000000  1.310000e+05     0.000000  3000.000000     0.000000   \n",
       "25%       2.000000  6.200000e+05     5.900000  3044.000000     2.000000   \n",
       "50%       3.000000  8.800000e+05     9.000000  3081.000000     3.000000   \n",
       "75%       4.000000  1.325000e+06    12.400000  3147.000000     3.000000   \n",
       "max       8.000000  9.000000e+06    47.400000  3977.000000     9.000000   \n",
       "\n",
       "          Bathroom          Car      Landsize  BuildingArea    YearBuilt  \\\n",
       "count  6196.000000  6196.000000   6196.000000   6196.000000  6196.000000   \n",
       "mean      1.576340     1.573596    471.006940    141.568645  1964.081988   \n",
       "std       0.711362     0.929947    897.449881     90.834824    38.105673   \n",
       "min       1.000000     0.000000      0.000000      0.000000  1196.000000   \n",
       "25%       1.000000     1.000000    152.000000     91.000000  1940.000000   \n",
       "50%       1.000000     1.000000    373.000000    124.000000  1970.000000   \n",
       "75%       2.000000     2.000000    628.000000    170.000000  2000.000000   \n",
       "max       8.000000    10.000000  37000.000000   3112.000000  2018.000000   \n",
       "\n",
       "         Lattitude   Longtitude  Propertycount  \n",
       "count  6196.000000  6196.000000    6196.000000  \n",
       "mean    -37.807904   144.990201    7435.489509  \n",
       "std       0.075850     0.099165    4337.698917  \n",
       "min     -38.164920   144.542370     389.000000  \n",
       "25%     -37.855438   144.926198    4383.750000  \n",
       "50%     -37.802250   144.995800    6567.000000  \n",
       "75%     -37.758200   145.052700   10175.000000  \n",
       "max     -37.457090   145.526350   21650.000000  "
      ]
     },
     "execution_count": 6,
     "metadata": {},
     "output_type": "execute_result"
    }
   ],
   "source": [
    "melbourne_data.describe()"
   ]
  },
  {
   "cell_type": "code",
   "execution_count": 7,
   "id": "widespread-martial",
   "metadata": {
    "execution": {
     "iopub.execute_input": "2021-04-21T22:02:22.722890Z",
     "iopub.status.busy": "2021-04-21T22:02:22.722380Z",
     "iopub.status.idle": "2021-04-21T22:02:22.724457Z",
     "shell.execute_reply": "2021-04-21T22:02:22.724904Z"
    },
    "papermill": {
     "duration": 0.023164,
     "end_time": "2021-04-21T22:02:22.725024",
     "exception": false,
     "start_time": "2021-04-21T22:02:22.701860",
     "status": "completed"
    },
    "tags": []
   },
   "outputs": [
    {
     "name": "stdout",
     "output_type": "stream",
     "text": [
      "Prediction target set\n"
     ]
    }
   ],
   "source": [
    "y = melbourne_data.Price\n",
    "print(\"Prediction target set\")"
   ]
  },
  {
   "cell_type": "code",
   "execution_count": 8,
   "id": "posted-dance",
   "metadata": {
    "execution": {
     "iopub.execute_input": "2021-04-21T22:02:22.762821Z",
     "iopub.status.busy": "2021-04-21T22:02:22.762298Z",
     "iopub.status.idle": "2021-04-21T22:02:22.766566Z",
     "shell.execute_reply": "2021-04-21T22:02:22.767045Z"
    },
    "papermill": {
     "duration": 0.024498,
     "end_time": "2021-04-21T22:02:22.767196",
     "exception": false,
     "start_time": "2021-04-21T22:02:22.742698",
     "status": "completed"
    },
    "tags": []
   },
   "outputs": [
    {
     "name": "stdout",
     "output_type": "stream",
     "text": [
      "Features built\n"
     ]
    }
   ],
   "source": [
    "# Buliding features\n",
    "melbourne_features = ['Rooms', 'Bathroom', 'Landsize', 'Lattitude', 'Longtitude']\n",
    "print(\"Features built\")"
   ]
  },
  {
   "cell_type": "code",
   "execution_count": 9,
   "id": "blank-sally",
   "metadata": {
    "execution": {
     "iopub.execute_input": "2021-04-21T22:02:22.805483Z",
     "iopub.status.busy": "2021-04-21T22:02:22.804896Z",
     "iopub.status.idle": "2021-04-21T22:02:22.808898Z",
     "shell.execute_reply": "2021-04-21T22:02:22.809359Z"
    },
    "papermill": {
     "duration": 0.024494,
     "end_time": "2021-04-21T22:02:22.809479",
     "exception": false,
     "start_time": "2021-04-21T22:02:22.784985",
     "status": "completed"
    },
    "tags": []
   },
   "outputs": [],
   "source": [
    "X = melbourne_data[melbourne_features]"
   ]
  },
  {
   "cell_type": "code",
   "execution_count": 10,
   "id": "spoken-diabetes",
   "metadata": {
    "execution": {
     "iopub.execute_input": "2021-04-21T22:02:22.847157Z",
     "iopub.status.busy": "2021-04-21T22:02:22.846643Z",
     "iopub.status.idle": "2021-04-21T22:02:22.869643Z",
     "shell.execute_reply": "2021-04-21T22:02:22.870100Z"
    },
    "papermill": {
     "duration": 0.042787,
     "end_time": "2021-04-21T22:02:22.870258",
     "exception": false,
     "start_time": "2021-04-21T22:02:22.827471",
     "status": "completed"
    },
    "tags": []
   },
   "outputs": [
    {
     "data": {
      "text/html": [
       "<div>\n",
       "<style scoped>\n",
       "    .dataframe tbody tr th:only-of-type {\n",
       "        vertical-align: middle;\n",
       "    }\n",
       "\n",
       "    .dataframe tbody tr th {\n",
       "        vertical-align: top;\n",
       "    }\n",
       "\n",
       "    .dataframe thead th {\n",
       "        text-align: right;\n",
       "    }\n",
       "</style>\n",
       "<table border=\"1\" class=\"dataframe\">\n",
       "  <thead>\n",
       "    <tr style=\"text-align: right;\">\n",
       "      <th></th>\n",
       "      <th>Rooms</th>\n",
       "      <th>Bathroom</th>\n",
       "      <th>Landsize</th>\n",
       "      <th>Lattitude</th>\n",
       "      <th>Longtitude</th>\n",
       "    </tr>\n",
       "  </thead>\n",
       "  <tbody>\n",
       "    <tr>\n",
       "      <th>count</th>\n",
       "      <td>6196.000000</td>\n",
       "      <td>6196.000000</td>\n",
       "      <td>6196.000000</td>\n",
       "      <td>6196.000000</td>\n",
       "      <td>6196.000000</td>\n",
       "    </tr>\n",
       "    <tr>\n",
       "      <th>mean</th>\n",
       "      <td>2.931407</td>\n",
       "      <td>1.576340</td>\n",
       "      <td>471.006940</td>\n",
       "      <td>-37.807904</td>\n",
       "      <td>144.990201</td>\n",
       "    </tr>\n",
       "    <tr>\n",
       "      <th>std</th>\n",
       "      <td>0.971079</td>\n",
       "      <td>0.711362</td>\n",
       "      <td>897.449881</td>\n",
       "      <td>0.075850</td>\n",
       "      <td>0.099165</td>\n",
       "    </tr>\n",
       "    <tr>\n",
       "      <th>min</th>\n",
       "      <td>1.000000</td>\n",
       "      <td>1.000000</td>\n",
       "      <td>0.000000</td>\n",
       "      <td>-38.164920</td>\n",
       "      <td>144.542370</td>\n",
       "    </tr>\n",
       "    <tr>\n",
       "      <th>25%</th>\n",
       "      <td>2.000000</td>\n",
       "      <td>1.000000</td>\n",
       "      <td>152.000000</td>\n",
       "      <td>-37.855438</td>\n",
       "      <td>144.926198</td>\n",
       "    </tr>\n",
       "    <tr>\n",
       "      <th>50%</th>\n",
       "      <td>3.000000</td>\n",
       "      <td>1.000000</td>\n",
       "      <td>373.000000</td>\n",
       "      <td>-37.802250</td>\n",
       "      <td>144.995800</td>\n",
       "    </tr>\n",
       "    <tr>\n",
       "      <th>75%</th>\n",
       "      <td>4.000000</td>\n",
       "      <td>2.000000</td>\n",
       "      <td>628.000000</td>\n",
       "      <td>-37.758200</td>\n",
       "      <td>145.052700</td>\n",
       "    </tr>\n",
       "    <tr>\n",
       "      <th>max</th>\n",
       "      <td>8.000000</td>\n",
       "      <td>8.000000</td>\n",
       "      <td>37000.000000</td>\n",
       "      <td>-37.457090</td>\n",
       "      <td>145.526350</td>\n",
       "    </tr>\n",
       "  </tbody>\n",
       "</table>\n",
       "</div>"
      ],
      "text/plain": [
       "             Rooms     Bathroom      Landsize    Lattitude   Longtitude\n",
       "count  6196.000000  6196.000000   6196.000000  6196.000000  6196.000000\n",
       "mean      2.931407     1.576340    471.006940   -37.807904   144.990201\n",
       "std       0.971079     0.711362    897.449881     0.075850     0.099165\n",
       "min       1.000000     1.000000      0.000000   -38.164920   144.542370\n",
       "25%       2.000000     1.000000    152.000000   -37.855438   144.926198\n",
       "50%       3.000000     1.000000    373.000000   -37.802250   144.995800\n",
       "75%       4.000000     2.000000    628.000000   -37.758200   145.052700\n",
       "max       8.000000     8.000000  37000.000000   -37.457090   145.526350"
      ]
     },
     "execution_count": 10,
     "metadata": {},
     "output_type": "execute_result"
    }
   ],
   "source": [
    "X.describe()"
   ]
  },
  {
   "cell_type": "code",
   "execution_count": 11,
   "id": "revised-tooth",
   "metadata": {
    "execution": {
     "iopub.execute_input": "2021-04-21T22:02:22.909710Z",
     "iopub.status.busy": "2021-04-21T22:02:22.909211Z",
     "iopub.status.idle": "2021-04-21T22:02:23.951554Z",
     "shell.execute_reply": "2021-04-21T22:02:23.951968Z"
    },
    "papermill": {
     "duration": 1.063018,
     "end_time": "2021-04-21T22:02:23.952120",
     "exception": false,
     "start_time": "2021-04-21T22:02:22.889102",
     "status": "completed"
    },
    "tags": []
   },
   "outputs": [
    {
     "name": "stdout",
     "output_type": "stream",
     "text": [
      "ML package import sucess\n"
     ]
    }
   ],
   "source": [
    "from sklearn.tree import DecisionTreeRegressor\n",
    "\n",
    "print(\"ML package import sucess\")"
   ]
  },
  {
   "cell_type": "code",
   "execution_count": 12,
   "id": "designed-draft",
   "metadata": {
    "execution": {
     "iopub.execute_input": "2021-04-21T22:02:23.997798Z",
     "iopub.status.busy": "2021-04-21T22:02:23.997241Z",
     "iopub.status.idle": "2021-04-21T22:02:24.028264Z",
     "shell.execute_reply": "2021-04-21T22:02:24.027516Z"
    },
    "papermill": {
     "duration": 0.056929,
     "end_time": "2021-04-21T22:02:24.028414",
     "exception": false,
     "start_time": "2021-04-21T22:02:23.971485",
     "status": "completed"
    },
    "tags": []
   },
   "outputs": [
    {
     "name": "stdout",
     "output_type": "stream",
     "text": [
      "Model defined & Fit success\n"
     ]
    }
   ],
   "source": [
    "melbourne_model = DecisionTreeRegressor(random_state=1)\n",
    "melbourne_model.fit(X, y)\n",
    "\n",
    "print(\"Model defined & Fit success\")"
   ]
  },
  {
   "cell_type": "code",
   "execution_count": 13,
   "id": "raised-mouth",
   "metadata": {
    "execution": {
     "iopub.execute_input": "2021-04-21T22:02:24.078970Z",
     "iopub.status.busy": "2021-04-21T22:02:24.078416Z",
     "iopub.status.idle": "2021-04-21T22:02:24.081834Z",
     "shell.execute_reply": "2021-04-21T22:02:24.081338Z"
    },
    "papermill": {
     "duration": 0.033241,
     "end_time": "2021-04-21T22:02:24.081953",
     "exception": false,
     "start_time": "2021-04-21T22:02:24.048712",
     "status": "completed"
    },
    "tags": []
   },
   "outputs": [
    {
     "name": "stdout",
     "output_type": "stream",
     "text": [
      "Making predictions for 5 houses on the current data set\n",
      "   Rooms  Bathroom  Landsize  Lattitude  Longtitude\n",
      "1      2       1.0     156.0   -37.8079    144.9934\n",
      "2      3       2.0     134.0   -37.8093    144.9944\n",
      "4      4       1.0     120.0   -37.8072    144.9941\n",
      "6      3       2.0     245.0   -37.8024    144.9993\n",
      "7      2       1.0     256.0   -37.8060    144.9954\n",
      "The price predections are as follows\n",
      "[1035000. 1465000. 1600000. 1876000. 1636000.]\n",
      "Prediction model working\n"
     ]
    }
   ],
   "source": [
    "print(\"Making predictions for 5 houses on the current data set\")\n",
    "print(X.head())\n",
    "print(\"The price predections are as follows\")\n",
    "print(melbourne_model.predict(X.head()))\n",
    "print(\"Prediction model working\")"
   ]
  },
  {
   "cell_type": "code",
   "execution_count": 14,
   "id": "major-stereo",
   "metadata": {
    "execution": {
     "iopub.execute_input": "2021-04-21T22:02:24.127312Z",
     "iopub.status.busy": "2021-04-21T22:02:24.126788Z",
     "iopub.status.idle": "2021-04-21T22:02:24.131891Z",
     "shell.execute_reply": "2021-04-21T22:02:24.132315Z"
    },
    "papermill": {
     "duration": 0.030574,
     "end_time": "2021-04-21T22:02:24.132444",
     "exception": false,
     "start_time": "2021-04-21T22:02:24.101870",
     "status": "completed"
    },
    "tags": []
   },
   "outputs": [
    {
     "data": {
      "text/plain": [
       "1115.7467183128902"
      ]
     },
     "execution_count": 14,
     "metadata": {},
     "output_type": "execute_result"
    }
   ],
   "source": [
    "#Model evaluation - we intially use the (Mean absolute error =actual−predicted)\n",
    "\n",
    "from sklearn.metrics import mean_absolute_error\n",
    "\n",
    "predicted_home_prices = melbourne_model.predict(X)\n",
    "mean_absolute_error(y, predicted_home_prices)\n",
    "\n",
    "\n"
   ]
  },
  {
   "cell_type": "code",
   "execution_count": 15,
   "id": "aging-ground",
   "metadata": {
    "execution": {
     "iopub.execute_input": "2021-04-21T22:02:24.178384Z",
     "iopub.status.busy": "2021-04-21T22:02:24.177810Z",
     "iopub.status.idle": "2021-04-21T22:02:24.204433Z",
     "shell.execute_reply": "2021-04-21T22:02:24.205144Z"
    },
    "papermill": {
     "duration": 0.052734,
     "end_time": "2021-04-21T22:02:24.205394",
     "exception": false,
     "start_time": "2021-04-21T22:02:24.152660",
     "status": "completed"
    },
    "tags": []
   },
   "outputs": [
    {
     "name": "stdout",
     "output_type": "stream",
     "text": [
      "276873.83322573703\n",
      "Train test split model ran sucessfully, however out sample error in new data model is more than $ 250 K\n"
     ]
    }
   ],
   "source": [
    "# using train - test - split model\n",
    "# split data into training and validation data, for both features and target\n",
    "# The split is based on a random number generator. Supplying a numeric value to\n",
    "# the random_state argument guarantees we get the same split every time we run this script.\n",
    "\n",
    "from sklearn.model_selection import train_test_split\n",
    "\n",
    "train_X, val_X, train_y, val_y = train_test_split(X, y, random_state = 0)\n",
    "\n",
    "#Define the model\n",
    "#NOTE - Ensure to put the parenthesis () after choosing the model.\n",
    "\n",
    "melbourne_model = DecisionTreeRegressor()\n",
    "\n",
    "#Fit the model\n",
    "\n",
    "melbourne_model.fit(train_X, train_y)\n",
    "\n",
    "val_predictions = melbourne_model.predict(val_X)\n",
    "\n",
    "print(mean_absolute_error(val_y, val_predictions))\n",
    "\n",
    "print(\"Train test split model ran sucessfully, however out sample error in new data model is more than $ 250 K\")"
   ]
  },
  {
   "cell_type": "code",
   "execution_count": 16,
   "id": "competent-voluntary",
   "metadata": {
    "execution": {
     "iopub.execute_input": "2021-04-21T22:02:24.250695Z",
     "iopub.status.busy": "2021-04-21T22:02:24.250138Z",
     "iopub.status.idle": "2021-04-21T22:02:24.255701Z",
     "shell.execute_reply": "2021-04-21T22:02:24.255238Z"
    },
    "papermill": {
     "duration": 0.027852,
     "end_time": "2021-04-21T22:02:24.255805",
     "exception": false,
     "start_time": "2021-04-21T22:02:24.227953",
     "status": "completed"
    },
    "tags": []
   },
   "outputs": [],
   "source": [
    "#Defining max leaf node function 'mae'\n",
    "from sklearn.metrics import mean_absolute_error\n",
    "from sklearn.tree import DecisionTreeRegressor\n",
    "\n",
    "def get_mae(max_leaf_nodes, train_X, val_X, train_y, val_y):\n",
    "    model = DecisionTreeRegressor(max_leaf_nodes=max_leaf_nodes, random_state=0)\n",
    "    model.fit(train_X, train_y)\n",
    "    preds_val = model.predict(val_X)\n",
    "    mae = mean_absolute_error(val_y, preds_val)\n",
    "    return(mae)"
   ]
  },
  {
   "cell_type": "code",
   "execution_count": 17,
   "id": "senior-mortgage",
   "metadata": {
    "execution": {
     "iopub.execute_input": "2021-04-21T22:02:24.303276Z",
     "iopub.status.busy": "2021-04-21T22:02:24.302723Z",
     "iopub.status.idle": "2021-04-21T22:02:24.364997Z",
     "shell.execute_reply": "2021-04-21T22:02:24.364554Z"
    },
    "papermill": {
     "duration": 0.089013,
     "end_time": "2021-04-21T22:02:24.365104",
     "exception": false,
     "start_time": "2021-04-21T22:02:24.276091",
     "status": "completed"
    },
    "tags": []
   },
   "outputs": [
    {
     "name": "stdout",
     "output_type": "stream",
     "text": [
      "Max leaf nodes: 5  \t\t Mean Absolute Error:  385696\n",
      "Max leaf nodes: 50  \t\t Mean Absolute Error:  279794\n",
      "Max leaf nodes: 500  \t\t Mean Absolute Error:  261718\n",
      "Max leaf nodes: 5000  \t\t Mean Absolute Error:  271996\n",
      "MAE calculation for diffrent leave node a sucess, 500 is the optimal number of leaves.\n"
     ]
    }
   ],
   "source": [
    "# compare MAE with differing values of max_leaf_nodes\n",
    "for max_leaf_nodes in [5, 50, 500, 5000]:\n",
    "    my_mae = get_mae(max_leaf_nodes, train_X, val_X, train_y, val_y)\n",
    "    print(\"Max leaf nodes: %d  \\t\\t Mean Absolute Error:  %d\" %(max_leaf_nodes, my_mae))\n",
    "    \n",
    "print(\"MAE calculation for diffrent leave node a sucess, 500 is the optimal number of leaves.\")"
   ]
  },
  {
   "cell_type": "markdown",
   "id": "twelve-suspect",
   "metadata": {
    "papermill": {
     "duration": 0.021554,
     "end_time": "2021-04-21T22:02:24.407775",
     "exception": false,
     "start_time": "2021-04-21T22:02:24.386221",
     "status": "completed"
    },
    "tags": []
   },
   "source": [
    "We shall use a diffrent model to improve MAE score of 271996,\n",
    "\n",
    "The random forest uses many trees, and it makes a prediction by averaging the predictions of each component tree. It generally has much better predictive accuracy than a single decision tree and it works well with default parameters."
   ]
  },
  {
   "cell_type": "markdown",
   "id": "configured-antique",
   "metadata": {
    "papermill": {
     "duration": 0.020617,
     "end_time": "2021-04-21T22:02:24.449671",
     "exception": false,
     "start_time": "2021-04-21T22:02:24.429054",
     "status": "completed"
    },
    "tags": []
   },
   "source": [
    "At the end of data-loading, we have the following variables:\n",
    "\n",
    "train_X\n",
    "val_X\n",
    "train_y\n",
    "val_y"
   ]
  },
  {
   "cell_type": "code",
   "execution_count": 18,
   "id": "global-fight",
   "metadata": {
    "execution": {
     "iopub.execute_input": "2021-04-21T22:02:24.496309Z",
     "iopub.status.busy": "2021-04-21T22:02:24.495734Z",
     "iopub.status.idle": "2021-04-21T22:02:24.524424Z",
     "shell.execute_reply": "2021-04-21T22:02:24.525393Z"
    },
    "papermill": {
     "duration": 0.054742,
     "end_time": "2021-04-21T22:02:24.525664",
     "exception": false,
     "start_time": "2021-04-21T22:02:24.470922",
     "status": "completed"
    },
    "tags": []
   },
   "outputs": [
    {
     "name": "stdout",
     "output_type": "stream",
     "text": [
      "Model loaded sucessfully\n"
     ]
    }
   ],
   "source": [
    "# implementing random forrest model\n",
    "\n",
    "from sklearn.ensemble import RandomForestRegressor\n",
    "from sklearn.metrics import mean_absolute_error\n",
    "\n",
    "print(\"Model loaded sucessfully\")"
   ]
  },
  {
   "cell_type": "code",
   "execution_count": 19,
   "id": "infrared-western",
   "metadata": {
    "execution": {
     "iopub.execute_input": "2021-04-21T22:02:24.572017Z",
     "iopub.status.busy": "2021-04-21T22:02:24.571451Z",
     "iopub.status.idle": "2021-04-21T22:02:25.843711Z",
     "shell.execute_reply": "2021-04-21T22:02:25.844174Z"
    },
    "papermill": {
     "duration": 1.296077,
     "end_time": "2021-04-21T22:02:25.844347",
     "exception": false,
     "start_time": "2021-04-21T22:02:24.548270",
     "status": "completed"
    },
    "tags": []
   },
   "outputs": [
    {
     "name": "stdout",
     "output_type": "stream",
     "text": [
      "207190.6873773146\n"
     ]
    }
   ],
   "source": [
    "#Define\n",
    "forest_model = RandomForestRegressor(random_state=1)\n",
    "\n",
    "#Fit Model\n",
    "forest_model.fit(train_X, train_y)\n",
    "\n",
    "#Train Model\n",
    "melb_price = forest_model.predict(val_X)\n",
    "\n",
    "#Output\n",
    "print(mean_absolute_error(val_y, melb_price))\n",
    "\n"
   ]
  },
  {
   "attachments": {
    "a3a98743-ca0b-45e8-8736-53be6a5b0e39.png": {
     "image/png": "[encoded data removed]"
    }
   },
   "cell_type": "markdown",
   "id": "trying-bedroom",
   "metadata": {
    "papermill": {
     "duration": 0.021232,
     "end_time": "2021-04-21T22:02:25.890047",
     "exception": false,
     "start_time": "2021-04-21T22:02:25.868815",
     "status": "completed"
    },
    "tags": []
   },
   "source": [
    "**End Results**\n",
    "\n",
    "\n",
    "*Old value* = $ 271,996,  *New Value* = $ 207,190.9\n",
    "\n",
    "Improved Melbourne house price predction ML model by ***31.28 %* **\n",
    "\n",
    "Average price of a house built after 1925 is $ 961129.256  (courtesy of Powerbi analysis)\n",
    "\n",
    "\n",
    "\n",
    "\n"
   ]
  }
 ],
 "metadata": {
  "kernelspec": {
   "display_name": "Python 3",
   "language": "python",
   "name": "python3"
  },
  "language_info": {
   "codemirror_mode": {
    "name": "ipython",
    "version": 3
   },
   "file_extension": ".py",
   "mimetype": "text/x-python",
   "name": "python",
   "nbconvert_exporter": "python",
   "pygments_lexer": "ipython3",
   "version": "3.7.10"
  },
  "papermill": {
   "default_parameters": {},
   "duration": 11.679706,
   "end_time": "2021-04-21T22:02:27.141807",
   "environment_variables": {},
   "exception": null,
   "input_path": "__notebook__.ipynb",
   "output_path": "__notebook__.ipynb",
   "parameters": {},
   "start_time": "2021-04-21T22:02:15.462101",
   "version": "2.3.3"
  }
 },
 "nbformat": 4,
 "nbformat_minor": 5
}
