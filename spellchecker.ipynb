{
  "nbformat": 4,
  "nbformat_minor": 0,
  "metadata": {
    "colab": {
      "name": "spellchecker.ipynb",
      "provenance": [],
      "collapsed_sections": [],
      "authorship_tag": "ABX9TyOtVax9I/tuwRFy1xII+V5M",
      "include_colab_link": true
    },
    "kernelspec": {
      "name": "python3",
      "display_name": "Python 3"
    },
    "language_info": {
      "name": "python"
    }
  },
  "cells": [
    {
      "cell_type": "markdown",
      "metadata": {
        "id": "view-in-github",
        "colab_type": "text"
      },
      "source": [
        "<a href=\"https://colab.research.google.com/github/krish-source/My-project-soruce1/blob/main/spellchecker.ipynb\" target=\"_parent\"><img src=\"https://colab.research.google.com/assets/colab-badge.svg\" alt=\"Open In Colab\"/></a>"
      ]
    },
    {
      "cell_type": "code",
      "metadata": {
        "colab": {
          "base_uri": "https://localhost:8080/"
        },
        "id": "EYlqGmXcIMeg",
        "outputId": "965afdd5-567a-4619-a1fa-e7f96800c4b2"
      },
      "source": [
        "pip install gingerit"
      ],
      "execution_count": 1,
      "outputs": [
        {
          "output_type": "stream",
          "text": [
            "Collecting gingerit\n",
            "  Downloading https://files.pythonhosted.org/packages/bd/ef/f66880c65391a0630bdd4ffc742c4e97c59146abf251bd764042ad1db049/gingerit-0.8.1-py3-none-any.whl\n",
            "Requirement already satisfied: requests<3.0,>=2.22 in /usr/local/lib/python3.7/dist-packages (from gingerit) (2.23.0)\n",
            "Requirement already satisfied: urllib3!=1.25.0,!=1.25.1,<1.26,>=1.21.1 in /usr/local/lib/python3.7/dist-packages (from requests<3.0,>=2.22->gingerit) (1.24.3)\n",
            "Requirement already satisfied: certifi>=2017.4.17 in /usr/local/lib/python3.7/dist-packages (from requests<3.0,>=2.22->gingerit) (2020.12.5)\n",
            "Requirement already satisfied: chardet<4,>=3.0.2 in /usr/local/lib/python3.7/dist-packages (from requests<3.0,>=2.22->gingerit) (3.0.4)\n",
            "Requirement already satisfied: idna<3,>=2.5 in /usr/local/lib/python3.7/dist-packages (from requests<3.0,>=2.22->gingerit) (2.10)\n",
            "Installing collected packages: gingerit\n",
            "Successfully installed gingerit-0.8.1\n"
          ],
          "name": "stdout"
        }
      ]
    },
    {
      "cell_type": "code",
      "metadata": {
        "id": "b1XM7Iu0IXDF"
      },
      "source": [
        "from gingerit.gingerit import GingerIt"
      ],
      "execution_count": 2,
      "outputs": []
    },
    {
      "cell_type": "code",
      "metadata": {
        "id": "vuVYeLgGIc5K"
      },
      "source": [
        "text = 'Tje agent could spokne in a more softer tone to the custometr this owuld ohave ensured that the customer trust was not lost & provided a better overall experiance'"
      ],
      "execution_count": 3,
      "outputs": []
    },
    {
      "cell_type": "code",
      "metadata": {
        "colab": {
          "base_uri": "https://localhost:8080/"
        },
        "id": "t6Ss-TYFIh2j",
        "outputId": "920b913f-2455-46b2-a593-3468d02ae272"
      },
      "source": [
        "# Create an object of Gingerit package and pass the text as an paramater to it parse function\n",
        "\n",
        "result = GingerIt().parse(text)\n",
        "result"
      ],
      "execution_count": 4,
      "outputs": [
        {
          "output_type": "execute_result",
          "data": {
            "text/plain": [
              "{'corrections': [{'correct': 'experience',\n",
              "   'definition': 'the accumulation of knowledge or skill that results from direct participation in events or activities',\n",
              "   'start': 152,\n",
              "   'text': 'experiance'},\n",
              "  {'correct': 'have',\n",
              "   'definition': 'have or possess, either in a concrete or an abstract sense',\n",
              "   'start': 73,\n",
              "   'text': 'ohave'},\n",
              "  {'correct': 'would',\n",
              "   'definition': 'past tense of \"will\"',\n",
              "   'start': 67,\n",
              "   'text': 'owuld'},\n",
              "  {'correct': 'customer',\n",
              "   'definition': 'someone who pays for goods or services',\n",
              "   'start': 52,\n",
              "   'text': 'custometr'},\n",
              "  {'correct': 'softer',\n",
              "   'definition': None,\n",
              "   'start': 28,\n",
              "   'text': 'more softer'},\n",
              "  {'correct': 'speak', 'definition': None, 'start': 16, 'text': 'spokne'},\n",
              "  {'correct': 'The', 'definition': None, 'start': 0, 'text': 'Tje'}],\n",
              " 'result': 'The agent could speak in a softer tone to the customer this would have ensured that the customer trust was not lost & provided a better overall experience',\n",
              " 'text': 'Tje agent could spokne in a more softer tone to the custometr this owuld ohave ensured that the customer trust was not lost & provided a better overall experiance'}"
            ]
          },
          "metadata": {
            "tags": []
          },
          "execution_count": 4
        }
      ]
    },
    {
      "cell_type": "code",
      "metadata": {
        "colab": {
          "base_uri": "https://localhost:8080/"
        },
        "id": "4E2cgnM1It3U",
        "outputId": "04d5d782-78d2-4811-f7fc-da6d4f417646"
      },
      "source": [
        "# Number of mistakes in the original text\n",
        "\n",
        "len(result['corrections'])"
      ],
      "execution_count": 5,
      "outputs": [
        {
          "output_type": "execute_result",
          "data": {
            "text/plain": [
              "7"
            ]
          },
          "metadata": {
            "tags": []
          },
          "execution_count": 5
        }
      ]
    },
    {
      "cell_type": "code",
      "metadata": {
        "colab": {
          "base_uri": "https://localhost:8080/"
        },
        "id": "oV3KmETlIx7F",
        "outputId": "c11365d0-fc65-4ceb-ee1e-7eb0f19a62d8"
      },
      "source": [
        "# List of mistakes in dictionary format as starting index, mistaken text, corrected text, definition of the corrected text\n",
        "\n",
        "for i in range(len(result['corrections'])):\n",
        "  print(result['corrections'][i])\n"
      ],
      "execution_count": 6,
      "outputs": [
        {
          "output_type": "stream",
          "text": [
            "{'start': 152, 'text': 'experiance', 'correct': 'experience', 'definition': 'the accumulation of knowledge or skill that results from direct participation in events or activities'}\n",
            "{'start': 73, 'text': 'ohave', 'correct': 'have', 'definition': 'have or possess, either in a concrete or an abstract sense'}\n",
            "{'start': 67, 'text': 'owuld', 'correct': 'would', 'definition': 'past tense of \"will\"'}\n",
            "{'start': 52, 'text': 'custometr', 'correct': 'customer', 'definition': 'someone who pays for goods or services'}\n",
            "{'start': 28, 'text': 'more softer', 'correct': 'softer', 'definition': None}\n",
            "{'start': 16, 'text': 'spokne', 'correct': 'speak', 'definition': None}\n",
            "{'start': 0, 'text': 'Tje', 'correct': 'The', 'definition': None}\n"
          ],
          "name": "stdout"
        }
      ]
    },
    {
      "cell_type": "code",
      "metadata": {
        "colab": {
          "base_uri": "https://localhost:8080/"
        },
        "id": "WrgXVMFeI4Nl",
        "outputId": "c7b17e2e-ddec-4163-eda6-ebe4e4ef8867"
      },
      "source": [
        "# Print the corrected text\n",
        "\n",
        "print(\"Original Text: \", result['text'])\n",
        "print(\"**Corrected Text**: \", result['result'])"
      ],
      "execution_count": 7,
      "outputs": [
        {
          "output_type": "stream",
          "text": [
            "Original Text:  Tje agent could spokne in a more softer tone to the custometr this owuld ohave ensured that the customer trust was not lost & provided a better overall experiance\n",
            "**Corrected Text**:  The agent could speak in a softer tone to the customer this would have ensured that the customer trust was not lost & provided a better overall experience\n"
          ],
          "name": "stdout"
        }
      ]
    }
  ]
}